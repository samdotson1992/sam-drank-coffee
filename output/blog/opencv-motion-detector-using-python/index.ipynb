{
 "cells": [
  {
   "cell_type": "markdown",
   "metadata": {},
   "source": [
    "This is going to be a blog about fun random ideas I come up with hyped on coffee. As my first post I'll be exploring the idea making a motion sensor using OpenCV and Python. The purpose is to detect ambient motion in a relatively still room. The motion sensor will keep rolling average of motion levels present and make some kind of notification when motion spikes.  "
   ]
  },
  {
   "cell_type": "markdown",
   "metadata": {},
   "source": [
    "I'll be using the OpenCV background subtractor to detect motion levels. \n",
    "\n",
    "https://docs.opencv.org/3.4/d7/d7b/classcv_1_1BackgroundSubtractorMOG2.html"
   ]
  },
  {
   "cell_type": "code",
   "execution_count": 1,
   "metadata": {},
   "outputs": [],
   "source": [
    "import numpy as np\n",
    "import cv2\n",
    "\n",
    "kernel = cv2.getStructuringElement(cv2.MORPH_ELLIPSE,(3,3))\n",
    "fgbg =  cv2.createBackgroundSubtractorMOG2()\n"
   ]
  },
  {
   "cell_type": "markdown",
   "metadata": {},
   "source": [
    "In a perfectly still frame the background subtractor would return only black pixels. To determine the amount of a motion in a frame we need only sum up all the pixels in a frame and determine if the number we get is unusually high. \n",
    "\n",
    "To do this I've set up a moving window to collect stats on motion levels and set the window size to 100 frames. For determining if a value is unusually high, I'll look for values 1 standard deviation over the mean.\n"
   ]
  },
  {
   "cell_type": "code",
   "execution_count": null,
   "metadata": {},
   "outputs": [],
   "source": [
    "moving_window_array = np.array([])\n",
    "\n",
    "window_size = 100\n",
    "\n",
    "cap = cv2.VideoCapture(0)\n",
    "\n",
    "while True:\n",
    "    ret, frame = cap.read()\n",
    "\n",
    "    fgmask = fgbg.apply(frame)\n",
    "    fgmask = cv2.morphologyEx(fgmask, cv2.MORPH_OPEN, kernel)\n",
    "    \n",
    "    fgmask_sum = fgmask.sum()\n",
    "        \n",
    "    moving_window_array = np.append(moving_window_array, fgmask_sum)\n",
    "\n",
    "    #Waits until there are enough frames to evaluate the relative motion levels. \n",
    "    if len(moving_window_array) > window_size : \n",
    "    \n",
    "        moving_window_array = moving_window_array[: window_size]\n",
    "        \n",
    "        if  fgmask_sum > moving_window_array.mean() + moving_window_array.std(): \n",
    "            text = \"Hello there.\"\n",
    "            font = cv2.FONT_HERSHEY_SIMPLEX\n",
    "            cv2.putText(frame, text, (50, 50), font, 2, (255, 255, 0), 2)\n",
    "\n",
    "    \n",
    "    cv2.imshow('frame', frame)\n",
    "\n",
    "    if cv2.waitKey(1) & 0xFF == ord('q'):\n",
    "        break\n",
    "\n",
    "\n",
    "cap.release()\n",
    "cv2.destroyAllWindows()"
   ]
  },
  {
   "cell_type": "markdown",
   "metadata": {},
   "source": [
    "By tuning the parameters one can increase the moving average window or lower the threshold for what constitutes a motion spike. "
   ]
  },
  {
   "cell_type": "raw",
   "metadata": {},
   "source": []
  }
 ],
 "metadata": {
  "kernelspec": {
   "display_name": "Python 3",
   "language": "python",
   "name": "python3"
  },
  "language_info": {
   "codemirror_mode": {
    "name": "ipython",
    "version": 3
   },
   "file_extension": ".py",
   "mimetype": "text/x-python",
   "name": "python",
   "nbconvert_exporter": "python",
   "pygments_lexer": "ipython3",
   "version": "3.7.1"
  },
  "nikola": {
   "category": "",
   "date": "2019-05-26 12:51:45 UTC-04:00",
   "description": "",
   "link": "",
   "slug": "opencv-motion-detector-using-python",
   "tags": "",
   "title": "OpenCV motion detector using Python",
   "type": "text"
  }
 },
 "nbformat": 4,
 "nbformat_minor": 2
}
